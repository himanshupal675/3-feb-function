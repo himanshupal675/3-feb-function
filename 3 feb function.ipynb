{
 "cells": [
  {
   "cell_type": "markdown",
   "id": "b0abead6-4223-49d4-8036-63f82e5d79bd",
   "metadata": {},
   "source": [
    "## Answer 1"
   ]
  },
  {
   "cell_type": "markdown",
   "id": "3ef7e612-f4c0-47db-8a32-2371952f86f8",
   "metadata": {},
   "source": [
    "The keyword used to create a function in Python is `def`. Here's a Python program that defines a function to return a list of odd numbers in the range of 1 to 25:\n",
    "\n",
    "```python\n",
    "def odd_numbers():\n",
    "    return [num for num in range(1, 26) if num % 2 != 0]\n",
    "\n",
    "# Calling the function and displaying the result\n",
    "result = odd_numbers()\n",
    "print(result)\n",
    "```\n",
    "\n",
    "This program defines a function called `odd_numbers` using the `def` keyword. Inside the function, a list comprehension is used to generate a list of odd numbers in the specified range. Finally, the function is called, and the result is printed."
   ]
  },
  {
   "cell_type": "markdown",
   "id": "9a2515b5-6d9d-4248-8c82-eb1096620d65",
   "metadata": {},
   "source": [
    "## Answer 2"
   ]
  },
  {
   "cell_type": "markdown",
   "id": "95c73877-44b4-46fb-be5c-de16c4cd5c2a",
   "metadata": {},
   "source": [
    "`*args` and `**kwargs` are used in Python functions to allow the function to accept a variable number of arguments.\n",
    "\n",
    "1. **`*args` (Arbitrary Positional Arguments):**\n",
    "\n",
    "   `*args` allows a function to accept any number of positional arguments. These arguments are passed to the function as a tuple. Here's an example:\n",
    "\n",
    "   ```python\n",
    "   def example_function(*args):\n",
    "       for arg in args:\n",
    "           print(arg)\n",
    "\n",
    "   # Calling the function with different numbers of arguments\n",
    "   example_function(1, 2, 3)\n",
    "   example_function('a', 'b', 'c', 'd')\n",
    "   ```\n",
    "\n",
    "   Output:\n",
    "   ```\n",
    "   1\n",
    "   2\n",
    "   3\n",
    "   a\n",
    "   b\n",
    "   c\n",
    "   d\n",
    "   ```\n",
    "\n",
    "2. **`**kwargs` (Arbitrary Keyword Arguments):**\n",
    "\n",
    "   `**kwargs` allows a function to accept any number of keyword arguments. These arguments are passed to the function as a dictionary. Here's an example:\n",
    "\n",
    "   ```python\n",
    "   def example_function_kwargs(**kwargs):\n",
    "       for key, value in kwargs.items():\n",
    "           print(f\"{key}: {value}\")\n",
    "\n",
    "   # Calling the function with different keyword arguments\n",
    "   example_function_kwargs(name='John', age=25, city='New York')\n",
    "   example_function_kwargs(language='Python', version=3.8)\n",
    "   ```\n",
    "\n",
    "   Output:\n",
    "   ```\n",
    "   name: John\n",
    "   age: 25\n",
    "   city: New York\n",
    "   language: Python\n",
    "   version: 3.8\n",
    "   ```\n",
    "\n",
    "In both examples, the functions can accept a varying number of arguments without explicitly defining them. This flexibility can be useful in various situations, especially when you want to create more generic functions or when you are not sure about the exact number of arguments that will be passed."
   ]
  },
  {
   "cell_type": "markdown",
   "id": "41f090bb-9e29-4a73-88e9-032e93be9a5b",
   "metadata": {},
   "source": [
    "## Answer 3"
   ]
  },
  {
   "cell_type": "markdown",
   "id": "a586e3f6-deee-47b1-be5f-5cdb38171758",
   "metadata": {},
   "source": [
    "In Python, an iterator is an object that allows iteration over a sequence of elements. It implements two essential methods: `__iter__` and `__next__`.\n",
    "\n",
    "1. **`__iter__` method:**\n",
    "   - This method is called when an iterator object is initialized. It should return the iterator object itself.\n",
    "\n",
    "2. **`__next__` method:**\n",
    "   - This method is called to get the next element in the sequence. If there are no more elements, it should raise the `StopIteration` exception.\n",
    "\n",
    "Here's an example demonstrating the use of an iterator to print the first five elements of the given list:\n",
    "\n",
    "```python\n",
    "class MyIterator:\n",
    "    def __init__(self, data):\n",
    "        self.data = data\n",
    "        self.index = 0\n",
    "\n",
    "    def __iter__(self):\n",
    "        return self\n",
    "\n",
    "    def __next__(self):\n",
    "        if self.index < len(self.data):\n",
    "            result = self.data[self.index]\n",
    "            self.index += 1\n",
    "            return result\n",
    "        else:\n",
    "            raise StopIteration\n",
    "\n",
    "\n",
    "# Given list\n",
    "my_list = [2, 4, 6, 8, 10, 12, 14, 16, 18, 20]\n",
    "\n",
    "# Initialize the iterator object\n",
    "my_iterator = MyIterator(my_list)\n",
    "\n",
    "# Use the iterator to print the first five elements\n",
    "for _ in range(5):\n",
    "    print(next(my_iterator))\n",
    "```\n",
    "\n",
    "Output:\n",
    "```\n",
    "2\n",
    "4\n",
    "6\n",
    "8\n",
    "10\n",
    "```"
   ]
  },
  {
   "cell_type": "markdown",
   "id": "ab56d4fb-01f4-4995-a7c5-4d6d6106e562",
   "metadata": {},
   "source": [
    "## Answer 4"
   ]
  },
  {
   "cell_type": "markdown",
   "id": "1b4d628f-405a-4d8f-8d6b-c42db258b938",
   "metadata": {},
   "source": [
    "A generator function in Python is a special kind of function that allows you to define an iterable sequence of values. Unlike regular functions that return a value and then exit, generator functions use the `yield` keyword to produce a series of values over time. Each time the `yield` statement is encountered, the function's state is saved, and the yielded value is returned to the caller. The next time the generator function is called, it resumes execution from where it left off.\n",
    "\n",
    "The `yield` keyword is used to produce a value from the generator and pause the function's execution. This is different from the `return` statement, which would terminate the function and lose its current state.\n",
    "\n",
    "Here's an example of a simple generator function that generates a sequence of squares:\n",
    "\n",
    "```python\n",
    "def square_generator(n):\n",
    "    for i in range(n):\n",
    "        yield i ** 2\n",
    "\n",
    "# Using the generator function\n",
    "squares = square_generator(5)\n",
    "\n",
    "# Iterating over the generated values\n",
    "for square in squares:\n",
    "    print(square)\n",
    "```\n",
    "\n",
    "Output:\n",
    "```\n",
    "0\n",
    "1\n",
    "4\n",
    "9\n",
    "16\n",
    "```\n",
    "\n",
    "In this example, the `square_generator` function is a generator that yields the squares of numbers up to a given limit (`n`). When the generator is iterated over using a `for` loop, it produces the squares one at a time without generating the entire sequence at once. This is memory-efficient, especially for large sequences, as only one value is produced and kept in memory at a time. The generator function's state is preserved between iterations, allowing it to continue from where it left off."
   ]
  },
  {
   "cell_type": "markdown",
   "id": "219b17b2-282a-4a4f-8715-9ed02773fc2e",
   "metadata": {},
   "source": [
    "## Answer 5"
   ]
  },
  {
   "cell_type": "code",
   "execution_count": null,
   "id": "418b5fd9-8c69-41cc-8edd-a527496b7a69",
   "metadata": {},
   "outputs": [],
   "source": [
    "def is_prime(num):\n",
    "    if num < 2:\n",
    "        return False\n",
    "    for i in range(2, int(num**0.5) + 1):\n",
    "        if num % i == 0:\n",
    "            return False\n",
    "    return True\n",
    "\n",
    "def prime_generator():\n",
    "    num = 2\n",
    "    count = 0\n",
    "    while count < 20:\n",
    "        if is_prime(num):\n",
    "            yield num\n",
    "            count += 1\n",
    "        num += 1\n",
    "\n",
    "# Using the generator function with next() to print the first 20 prime numbers\n",
    "for _ in range(20):\n",
    "    print(next(prime_generator()))\n"
   ]
  },
  {
   "cell_type": "markdown",
   "id": "67bb810d-b805-4940-97f0-d2eb60367c8e",
   "metadata": {},
   "source": [
    "## Answer 6"
   ]
  },
  {
   "cell_type": "markdown",
   "id": "16af654f-18f6-465f-a311-43a1e45393f9",
   "metadata": {},
   "source": [
    "Certainly! The Fibonacci sequence is a series of numbers in which each number is the sum of the two preceding ones, usually starting with 0 and 1. Here's a Python program that prints the first 10 Fibonacci numbers using a while loop:\n",
    "\n",
    "```python\n",
    "# Function to print the first 10 Fibonacci numbers\n",
    "def fibonacci_sequence():\n",
    "    a, b = 0, 1\n",
    "    count = 0\n",
    "    while count < 10:\n",
    "        print(a, end=\" \")\n",
    "        a, b = b, a + b\n",
    "        count += 1\n",
    "\n",
    "# Call the function to print the first 10 Fibonacci numbers\n",
    "fibonacci_sequence()\n",
    "```\n",
    "\n",
    "This program initializes the variables `a` and `b` to 0 and 1, respectively. It then uses a while loop to iterate and print the first 10 Fibonacci numbers. In each iteration, the values of `a` and `b` are updated to the next numbers in the Fibonacci sequence."
   ]
  },
  {
   "cell_type": "markdown",
   "id": "a666285b-54ea-4057-ad6a-a58e6f8e709b",
   "metadata": {},
   "source": [
    "## Answer 7"
   ]
  },
  {
   "cell_type": "code",
   "execution_count": 1,
   "id": "9baeeef6-6766-42e5-9299-d2a7924c426b",
   "metadata": {},
   "outputs": [
    {
     "name": "stdout",
     "output_type": "stream",
     "text": [
      "['p', 'w', 's', 'k', 'i', 'l', 'l', 's']\n"
     ]
    }
   ],
   "source": [
    "# Given string\n",
    "input_string = 'pwskills'\n",
    "\n",
    "# List comprehension to iterate through the string\n",
    "result_list = [char for char in input_string]\n",
    "\n",
    "# Displaying the result\n",
    "print(result_list)\n"
   ]
  },
  {
   "cell_type": "markdown",
   "id": "4ae1f732-f613-428f-9563-04f4d6ecbe9b",
   "metadata": {},
   "source": [
    "## Answer 8"
   ]
  },
  {
   "cell_type": "code",
   "execution_count": 2,
   "id": "8164235a-94f0-45eb-bc97-299dd9e9c04f",
   "metadata": {},
   "outputs": [
    {
     "name": "stdin",
     "output_type": "stream",
     "text": [
      "Enter a number:  676\n"
     ]
    },
    {
     "name": "stdout",
     "output_type": "stream",
     "text": [
      "676 is a palindrome.\n"
     ]
    }
   ],
   "source": [
    "def is_palindrome(num):\n",
    "    original_num = num\n",
    "    reversed_num = 0\n",
    "\n",
    "    while num > 0:\n",
    "        digit = num % 10\n",
    "        reversed_num = reversed_num * 10 + digit\n",
    "        num = num // 10\n",
    "\n",
    "    return original_num == reversed_num\n",
    "\n",
    "# Input a number\n",
    "number = int(input(\"Enter a number: \"))\n",
    "\n",
    "# Check if it is a palindrome\n",
    "if is_palindrome(number):\n",
    "    print(f\"{number} is a palindrome.\")\n",
    "else:\n",
    "    print(f\"{number} is not a palindrome.\")\n"
   ]
  },
  {
   "cell_type": "markdown",
   "id": "492d9a1c-61a8-435f-a12b-afa4943095b7",
   "metadata": {},
   "source": [
    "## Answer 9"
   ]
  },
  {
   "cell_type": "code",
   "execution_count": 3,
   "id": "95b12ef9-6bec-419c-9dfe-95401efd5de1",
   "metadata": {},
   "outputs": [
    {
     "name": "stdout",
     "output_type": "stream",
     "text": [
      "[1, 3, 5, 7, 9, 11, 13, 15, 17, 19, 21, 23, 25, 27, 29, 31, 33, 35, 37, 39, 41, 43, 45, 47, 49, 51, 53, 55, 57, 59, 61, 63, 65, 67, 69, 71, 73, 75, 77, 79, 81, 83, 85, 87, 89, 91, 93, 95, 97, 99]\n"
     ]
    }
   ],
   "source": [
    "# List comprehension to generate odd numbers from 1 to 100\n",
    "odd_numbers = [num for num in range(1, 101) if num % 2 != 0]\n",
    "\n",
    "# Displaying the list of odd numbers\n",
    "print(odd_numbers)\n"
   ]
  },
  {
   "cell_type": "code",
   "execution_count": null,
   "id": "cdce0f94-e930-4d79-972c-d86e9794c4ca",
   "metadata": {},
   "outputs": [],
   "source": []
  }
 ],
 "metadata": {
  "kernelspec": {
   "display_name": "Python 3 (ipykernel)",
   "language": "python",
   "name": "python3"
  },
  "language_info": {
   "codemirror_mode": {
    "name": "ipython",
    "version": 3
   },
   "file_extension": ".py",
   "mimetype": "text/x-python",
   "name": "python",
   "nbconvert_exporter": "python",
   "pygments_lexer": "ipython3",
   "version": "3.10.8"
  }
 },
 "nbformat": 4,
 "nbformat_minor": 5
}
